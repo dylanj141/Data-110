{
  "nbformat": 4,
  "nbformat_minor": 0,
  "metadata": {
    "colab": {
      "provenance": [],
      "authorship_tag": "ABX9TyObqoppASE2cG7hLFOxgUVV",
      "include_colab_link": true
    },
    "kernelspec": {
      "name": "python3",
      "display_name": "Python 3"
    },
    "language_info": {
      "name": "python"
    }
  },
  "cells": [
    {
      "cell_type": "markdown",
      "metadata": {
        "id": "view-in-github",
        "colab_type": "text"
      },
      "source": [
        "<a href=\"https://colab.research.google.com/github/dylanj141/Dylan-Johnson-Data-110/blob/main/googleCode.ipynb\" target=\"_parent\"><img src=\"https://colab.research.google.com/assets/colab-badge.svg\" alt=\"Open In Colab\"/></a>"
      ]
    },
    {
      "cell_type": "code",
      "execution_count": 4,
      "metadata": {
        "colab": {
          "base_uri": "https://localhost:8080/"
        },
        "id": "ze2MFADJ_XoM",
        "outputId": "7309a870-1750-43de-85d4-0d52008e164b"
      },
      "outputs": [
        {
          "output_type": "stream",
          "name": "stdout",
          "text": [
            "visual studio is better and is free\n"
          ]
        }
      ],
      "source": [
        "print('visual studio is better and is free')"
      ]
    },
    {
      "cell_type": "code",
      "source": [
        "print(3*2+43/12)"
      ],
      "metadata": {
        "colab": {
          "base_uri": "https://localhost:8080/"
        },
        "id": "aw-KbPju_Yhz",
        "outputId": "4481114e-2c76-4121-b2b6-f50ff80aa892"
      },
      "execution_count": 3,
      "outputs": [
        {
          "output_type": "stream",
          "name": "stdout",
          "text": [
            "9.583333333333334\n"
          ]
        }
      ]
    },
    {
      "cell_type": "code",
      "source": [
        "x = [1,2,3,4]\n",
        "y = [12, 32, 57, 79]"
      ],
      "metadata": {
        "id": "8FAUKlSZDC6k"
      },
      "execution_count": null,
      "outputs": []
    },
    {
      "cell_type": "code",
      "source": [],
      "metadata": {
        "id": "xcP7S8vJDC1p"
      },
      "execution_count": null,
      "outputs": []
    }
  ]
}